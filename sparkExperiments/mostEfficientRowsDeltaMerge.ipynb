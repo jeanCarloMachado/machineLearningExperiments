{
 "cells": [
  {
   "cell_type": "markdown",
   "metadata": {
    "collapsed": true,
    "pycharm": {
     "name": "#%% md\n"
    }
   },
   "source": [
    "### How to merge the delta of 2 rows, one in each row"
   ]
  },
  {
   "cell_type": "code",
   "source": [
    "rows = [\n",
    " [\"id\", \"score\"],\n",
    " ['a', 5],\n",
    " ['b', 3]\n",
    " ['c', 2],\n",
    " ['d', 1]\n",
    "]\n",
    "\n",
    "#expected output\n",
    "rows = [\n",
    " ['a', 'b', 2],\n",
    " ['c', 'd', 1],\n",
    "]"
   ],
   "metadata": {
    "collapsed": false,
    "pycharm": {
     "name": "#%%\n"
    }
   },
   "execution_count": null,
   "outputs": []
  }
 ],
 "metadata": {
  "kernelspec": {
   "display_name": "Python 3",
   "language": "python",
   "name": "python3"
  },
  "language_info": {
   "codemirror_mode": {
    "name": "ipython",
    "version": 2
   },
   "file_extension": ".py",
   "mimetype": "text/x-python",
   "name": "python",
   "nbconvert_exporter": "python",
   "pygments_lexer": "ipython2",
   "version": "2.7.6"
  },
  "pycharm": {
   "stem_cell": {
    "cell_type": "raw",
    "source": [],
    "metadata": {
     "collapsed": false
    }
   }
  }
 },
 "nbformat": 4,
 "nbformat_minor": 0
}