{
 "cells": [
  {
   "cell_type": "markdown",
   "metadata": {
    "collapsed": true,
    "pycharm": {
     "name": "#%% md\n"
    }
   },
   "source": [
    "### How to merge the delta of 2 rows, one in each row"
   ]
  },
  {
   "cell_type": "code",
   "source": [
    "import pandas as pd\n",
    "\n",
    "rows = [\n",
    " ('a', 5),\n",
    " ('b', 3),\n",
    " ('c', 2),\n",
    " ('d', 1)\n",
    "]\n",
    "\n",
    "df = pd.DataFrame(data=rows, columns=['id', 'score'])"
   ],
   "metadata": {
    "collapsed": false,
    "pycharm": {
     "name": "#%%\n",
     "is_executing": false
    }
   },
   "execution_count": 1,
   "outputs": []
  },
  {
   "cell_type": "code",
   "execution_count": 5,
   "outputs": [],
   "source": [
    "import findspark\n",
    "findspark.init()\n",
    "from pyspark.sql import SparkSession\n",
    "\n",
    "from pyspark import SparkContext, SQLContext\n",
    "\n",
    "from pyspark.sql.types import *\n",
    "\n",
    "mySchema = StructType([ StructField(\"id\", StringType(), True)\\\n",
    "                       ,StructField(\"score\", LongType(), True)])\n",
    "\n",
    "sc = SparkSession.builder.appName('testjean').getOrCreate()\n",
    "sqlCtx = SQLContext(sc)\n",
    "faketable = sqlCtx.createDataFrame(df, schema=mySchema)\n",
    "faketable.createOrReplaceTempView('faketable')\n",
    "\n"
   ],
   "metadata": {
    "collapsed": false,
    "pycharm": {
     "name": "#%% \n",
     "is_executing": false
    }
   }
  },
  {
   "cell_type": "markdown",
   "source": [
    "## A solution is to use sql window functions"
   ],
   "metadata": {
    "collapsed": false,
    "pycharm": {
     "name": "#%% md\n"
    }
   }
  },
  {
   "cell_type": "code",
   "execution_count": 31,
   "outputs": [
    {
     "name": "stdout",
     "text": [
      "+---+-----+-----+----------+--------+-----+\n",
      "| id|score|count|prev_score|my_count|delta|\n",
      "+---+-----+-----+----------+--------+-----+\n",
      "|  a|    5|    0|         3|       0|    2|\n",
      "|  c|    2|    2|         1|       2|    1|\n",
      "+---+-----+-----+----------+--------+-----+\n",
      "\n"
     ],
     "output_type": "stream"
    }
   ],
   "source": [
    "from pyspark.sql.functions import monotonically_increasing_id, lag, lead, when, isnull\n",
    "from pyspark.sql.window import Window\n",
    "\n",
    "faketable = faketable.withColumn('my_count', monotonically_increasing_id())\n",
    "\n",
    "my_window = Window.partitionBy().orderBy(\"my_count\")\n",
    "\n",
    "faketable = faketable.withColumn(\"prev_score\", lead(faketable.score).over(my_window))\n",
    "\n",
    "## this line keeps every second line\n",
    "faketable = faketable.filter(faketable.my_count % 2 == 0)\n",
    "\n",
    "faketable.withColumn(\"delta\", when(isnull(faketable.score - faketable.prev_score), 0).otherwise(faketable.score - faketable.prev_score)).show()\n",
    "\n",
    "\n",
    "\n",
    "\n"
   ],
   "metadata": {
    "collapsed": false,
    "pycharm": {
     "name": "#%%\n",
     "is_executing": false
    }
   }
  },
  {
   "cell_type": "code",
   "execution_count": 4,
   "outputs": [],
   "source": [
    "#expected output\n",
    "result = [\n",
    " ['a', 'b', 2],\n",
    " ['c', 'd', 1],\n",
    "]\n",
    "\n"
   ],
   "metadata": {
    "collapsed": false,
    "pycharm": {
     "name": "#%%\n",
     "is_executing": false
    }
   }
  }
 ],
 "metadata": {
  "kernelspec": {
   "name": "pyspark",
   "language": "python",
   "display_name": "pyspark"
  },
  "language_info": {
   "codemirror_mode": {
    "name": "ipython",
    "version": 2
   },
   "file_extension": ".py",
   "mimetype": "text/x-python",
   "name": "python",
   "nbconvert_exporter": "python",
   "pygments_lexer": "ipython2",
   "version": "2.7.6"
  },
  "pycharm": {
   "stem_cell": {
    "cell_type": "raw",
    "source": [],
    "metadata": {
     "collapsed": false
    }
   }
  }
 },
 "nbformat": 4,
 "nbformat_minor": 0
}