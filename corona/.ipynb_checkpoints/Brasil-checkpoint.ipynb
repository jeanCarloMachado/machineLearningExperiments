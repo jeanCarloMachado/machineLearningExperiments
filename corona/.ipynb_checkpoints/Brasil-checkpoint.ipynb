{
 "cells": [
  {
   "cell_type": "code",
   "execution_count": 29,
   "metadata": {
    "pycharm": {
     "is_executing": false
    }
   },
   "outputs": [
    {
     "data": {
      "image/png": "[encoded data removed]",
      "text/plain": [
       "<Figure size 432x288 with 1 Axes>"
      ]
     },
     "metadata": {
      "needs_background": "light"
     },
     "output_type": "display_data"
    }
   ],
   "source": [
    "\n",
    "import pandas as pd\n",
    "import matplotlib.pyplot as plt\n",
    "\n",
    "\n",
    "data = [\n",
    "    {\"date\": \"21-03-2020\", \"cases\":1000},\n",
    "    {\"date\": \"22-03-2020\", \"cases\":1500},\n",
    "    {\"date\": \"23-03-2020\", \"cases\":1900},\n",
    "    {\"date\": \"24-03-2020\", \"cases\":2200},\n",
    "    {\"date\": \"25-03-2020\", \"cases\":2600},\n",
    "    {\"date\": \"26-03-2020\", \"cases\":3000},\n",
    "    {\"date\": \"27-03-2020\", \"cases\":3400},\n",
    "    {\"date\": \"28-03-2020\", \"cases\":3900},\n",
    "]\n",
    "\n",
    "\n",
    "df = pd.DataFrame.from_dict(data)\n",
    "\n",
    "plt.plot(df['date'], df['cases'])\n",
    "plt.show()\n"
   ]
  },
  {
   "cell_type": "markdown",
   "metadata": {
    "lines_to_next_cell": 2,
    "pycharm": {
     "is_executing": false
    }
   },
   "source": [
    "# 4 days to double \n",
    "in pycharm\n"
   ]
  },
  {
   "cell_type": "code",
   "execution_count": 59,
   "metadata": {},
   "outputs": [],
   "source": [
    "\n",
    "\n",
    "def growth(cases):\n",
    "    (2 * cases) / 5\n"
   ]
  },
  {
   "cell_type": "code",
   "execution_count": 42,
   "metadata": {
    "lines_to_next_cell": 0,
    "pycharm": {
     "is_executing": false
    }
   },
   "outputs": [
    {
     "name": "stdout",
     "output_type": "stream",
     "text": [
      "2020-03-29    3407.505028\n",
      "2020-03-30    2440.010056\n",
      "2020-03-31    2440.010056\n",
      "2020-04-01    2440.010056\n",
      "2020-04-02    2440.010056\n",
      "2020-04-03    2440.010056\n",
      "2020-04-04    2440.010056\n",
      "2020-04-05    2440.010056\n",
      "2020-04-06    2440.010056\n",
      "2020-04-07    2440.010056\n",
      "2020-04-08    2440.010056\n",
      "2020-04-09    2440.010056\n",
      "2020-04-10    2440.010056\n",
      "2020-04-11    2440.010056\n",
      "2020-04-12    2440.010056\n",
      "2020-04-13    2440.010056\n",
      "2020-04-14    2440.010056\n",
      "2020-04-15    2440.010056\n",
      "Freq: D, dtype: float64\n"
     ]
    },
    {
     "name": "stderr",
     "output_type": "stream",
     "text": [
      "/home/jean/.local/lib/python3.8/site-packages/statsmodels/base/model.py:547: HessianInversionWarning: Inverting hessian failed, no bse or cov_params available\n",
      "  warn('Inverting hessian failed, no bse or cov_params '\n"
     ]
    }
   ],
   "source": [
    "from statsmodels.tsa.arima_model import ARMA\n",
    "\n",
    "model = ARMA(df[\"cases\"], order=(0,1), dates=df[\"date\"], freq=\"D\")\n",
    "fit=model.fit(disp=False)\n",
    "result = fit.predict(\"2020-03-29\", \"2020-04-15\")\n",
    "print(result)\n"
   ]
  },
  {
   "cell_type": "code",
   "execution_count": 58,
   "metadata": {
    "pycharm": {
     "is_executing": false
    }
   },
   "outputs": [
    {
     "name": "stdout",
     "output_type": "stream",
     "text": [
      "20      3900.0\n",
      "21      3900.0\n",
      "22      3900.0\n",
      "23      3900.0\n",
      "24      3900.0\n",
      "         ...  \n",
      "996     3900.0\n",
      "997     3900.0\n",
      "998     3900.0\n",
      "999     3900.0\n",
      "1000    3900.0\n",
      "Length: 981, dtype: float64\n"
     ]
    }
   ],
   "source": [
    "from statsmodels.tsa.holtwinters import SimpleExpSmoothing\n",
    "\n",
    "model = SimpleExpSmoothing(df['cases'])\n",
    "fit=model.fit()\n",
    "result = fit.predict(20, 1000)\n",
    "print(result)\n"
   ]
  },
  {
   "cell_type": "code",
   "execution_count": null,
   "metadata": {},
   "outputs": [],
   "source": []
  }
 ],
 "metadata": {
  "kernelspec": {
   "display_name": "Python 3",
   "language": "python",
   "name": "python3"
  },
  "language_info": {
   "codemirror_mode": {
    "name": "ipython",
    "version": 3
   },
   "file_extension": ".py",
   "mimetype": "text/x-python",
   "name": "python",
   "nbconvert_exporter": "python",
   "pygments_lexer": "ipython3",
   "version": "3.8.2"
  },
  "pycharm": {
   "stem_cell": {
    "cell_type": "raw",
    "metadata": {
     "collapsed": false
    },
    "source": []
   }
  }
 },
 "nbformat": 4,
 "nbformat_minor": 4
}
