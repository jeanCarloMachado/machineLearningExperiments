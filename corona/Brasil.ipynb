{
 "cells": [
  {
   "cell_type": "code",
   "execution_count": null,
   "metadata": {
    "pycharm": {
     "is_executing": false
    }
   },
   "outputs": [],
   "source": [
    "\n",
    "import pandas as pd\n",
    "import matplotlib.pyplot as plt\n",
    "\n",
    "\n",
    "data = [\n",
    "    {\"date\": \"03-21\", \"cases\":1000},\n",
    "    {\"date\": \"03-22\", \"cases\":1500},\n",
    "    {\"date\": \"03-23\", \"cases\":1900},\n",
    "    {\"date\": \"03-24\", \"cases\":2200},\n",
    "    {\"date\": \"03-25\", \"cases\":2600},\n",
    "    {\"date\": \"03-26\", \"cases\":3000},\n",
    "    {\"date\": \"03-27\", \"cases\":3400},\n",
    "    {\"date\": \"03-28\", \"cases\":3900},\n",
    "]\n",
    "\n",
    "\n",
    "df = pd.DataFrame.from_dict(data)\n",
    "\n",
    "plt.plot(df['date'], df['cases'])\n",
    "plt.show()\n"
   ]
  },
  {
   "cell_type": "markdown",
   "metadata": {
    "lines_to_next_cell": 2,
    "pycharm": {
     "is_executing": false
    }
   },
   "source": [
    "# 4 days to double \n",
    "in pycharm\n"
   ]
  },
  {
   "cell_type": "code",
   "execution_count": null,
   "metadata": {},
   "outputs": [],
   "source": [
    "from datetime import datetime,timedelta\n",
    "\n",
    "\n",
    "def growth(cases):\n",
    "    return (2 * cases) / 3\n",
    "\n",
    "total_cases = 3500\n",
    "\n",
    "def pop_affected(total_cases):\n",
    "    now = datetime.now()\n",
    "    data = []\n",
    "    for i in range(1, 15):\n",
    "        new_cases = growth(total_cases)\n",
    "        total_cases += new_cases\n",
    "\n",
    "\n",
    "        date = now + timedelta(days=i)\n",
    "        data.append({\n",
    "            \"date\": date.strftime(\"%m-%d\"), \"cases\": total_cases\n",
    "        })\n",
    "        if total_cases >=  200000000:\n",
    "            break\n",
    "\n",
    "    return data\n",
    "\n",
    "\n",
    "plt.rcParams[\"figure.figsize\"] = (20,7)\n",
    "\n",
    "affected_data = pop_affected(total_cases)\n",
    "df2 = pd.DataFrame.from_dict(affected_data)\n",
    "\n",
    "dates = df['date'].to_list() + df2['date'].to_list()\n",
    "cases = df['cases'].to_list() + ([None] * len(df2['date'].to_list()))\n",
    "pred = ([None] * len(df['date'].to_list())) + df2['cases'].to_list() \n",
    "plt.plot(dates, cases)\n",
    "plt.plot(dates, pred)\n",
    "plt.show()"
   ]
  },
  {
   "cell_type": "code",
   "execution_count": null,
   "metadata": {
    "lines_to_next_cell": 0,
    "pycharm": {
     "is_executing": false
    }
   },
   "outputs": [],
   "source": [
    "from statsmodels.tsa.arima_model import ARMA\n",
    "\n",
    "model = ARMA(df[\"cases\"], order=(0,1), dates=df[\"date\"], freq=\"D\")\n",
    "fit=model.fit(disp=False)\n",
    "result = fit.predict(\"03-29\", \"04-15\")\n",
    "print(result)\n"
   ]
  },
  {
   "cell_type": "code",
   "execution_count": 58,
   "metadata": {
    "pycharm": {
     "is_executing": false
    }
   },
   "outputs": [
    {
     "name": "stdout",
     "output_type": "stream",
     "text": [
      "20      3900.0\n",
      "21      3900.0\n",
      "22      3900.0\n",
      "23      3900.0\n",
      "24      3900.0\n",
      "         ...  \n",
      "996     3900.0\n",
      "997     3900.0\n",
      "998     3900.0\n",
      "999     3900.0\n",
      "1000    3900.0\n",
      "Length: 981, dtype: float64\n"
     ]
    }
   ],
   "source": [
    "from statsmodels.tsa.holtwinters import SimpleExpSmoothing\n",
    "\n",
    "model = SimpleExpSmoothing(df['cases'])\n",
    "fit=model.fit()\n",
    "result = fit.predict(20, 1000)\n",
    "print(result)\n"
   ]
  },
  {
   "cell_type": "code",
   "execution_count": null,
   "metadata": {},
   "outputs": [],
   "source": []
  }
 ],
 "metadata": {
  "kernelspec": {
   "display_name": "Python 3",
   "language": "python",
   "name": "python3"
  },
  "language_info": {
   "codemirror_mode": {
    "name": "ipython",
    "version": 3
   },
   "file_extension": ".py",
   "mimetype": "text/x-python",
   "name": "python",
   "nbconvert_exporter": "python",
   "pygments_lexer": "ipython3",
   "version": "3.8.2"
  },
  "pycharm": {
   "stem_cell": {
    "cell_type": "raw",
    "metadata": {
     "collapsed": false
    },
    "source": []
   }
  }
 },
 "nbformat": 4,
 "nbformat_minor": 4
}
